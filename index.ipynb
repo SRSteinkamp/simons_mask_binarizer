{
 "cells": [
  {
   "cell_type": "code",
   "execution_count": null,
   "metadata": {},
   "outputs": [],
   "source": [
    "#hide\n",
    "from your_lib.core import *"
   ]
  },
  {
   "cell_type": "markdown",
   "metadata": {},
   "source": [
    "# simons_mask_binarizer\n",
    "\n",
    "Very small tool to transform masks created for example in mricron (`255` as max value) to `1`. \n",
    "\n",
    "Will possibly later merge with my `random_ni_tools`."
   ]
  },
  {
   "cell_type": "markdown",
   "metadata": {},
   "source": [
    "This file will become your README and also the index of your documentation."
   ]
  },
  {
   "cell_type": "markdown",
   "metadata": {},
   "source": [
    "## Install"
   ]
  },
  {
   "cell_type": "markdown",
   "metadata": {},
   "source": [
    "Not yet tested, but should work :)\n",
    "\n",
    "As always I would recommned, to create a new python environment for this tool!\n",
    "\n",
    "\n",
    "`pip install git+https://github.com/SRSteinkamp/simons_mask_binarizer.git`"
   ]
  },
  {
   "cell_type": "markdown",
   "metadata": {},
   "source": [
    "## How to use"
   ]
  },
  {
   "cell_type": "markdown",
   "metadata": {},
   "source": [
    "Currently exposes a CLI directly, to transform single files. In your terminal run:\n",
    "\n",
    "`nifti_binarizer INPUTPATH -o OUTPUTPATH -p PREFIX`\n",
    "\n",
    "Where the INPUTPATH (path of the image to be converted) has to be provided.\n",
    "\n",
    "The \n",
    "\n",
    "* `-o` or `--outputpath` argument is optional to provide the destination of the converted image. Defualt image is converted inside `INPUTPATH` folder.\n",
    "\n",
    "* `-p` or `--prefix` argument is optional, prefixes to \n"
   ]
  },
  {
   "cell_type": "code",
   "execution_count": null,
   "metadata": {},
   "outputs": [],
   "source": []
  }
 ],
 "metadata": {
  "kernelspec": {
   "display_name": "Python 3",
   "language": "python",
   "name": "python3"
  }
 },
 "nbformat": 4,
 "nbformat_minor": 2
}
