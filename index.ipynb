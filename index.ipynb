{
 "cells": [
  {
   "cell_type": "code",
   "execution_count": null,
   "metadata": {},
   "outputs": [],
   "source": [
    "#hide\n",
    "from simons_mask_binarizer import *"
   ]
  },
  {
   "cell_type": "markdown",
   "metadata": {},
   "source": [
    "# simons_mask_binarizer\n",
    "\n",
    "Very small tool to binarize masks (`mask > 0`) created for example in mricron ( which have `255` as max value) to `1` and `0` and casts the mask to `uint8`, or a datatype of `2` in the nifti header.  \n",
    "\n",
    "**To be clear**: all non-zero voxels will be transformed to ones.\n",
    "\n",
    "Will possibly later merge with my `random_ni_tools`."
   ]
  },
  {
   "cell_type": "markdown",
   "metadata": {},
   "source": [
    "Not well tested, but should work in most cases. Test of the CLI were only performed on WIN10, so there might be some issues popping up.\n",
    "\n",
    "Please post an issue, if there is something not working as expected."
   ]
  },
  {
   "cell_type": "markdown",
   "metadata": {},
   "source": [
    "## Install"
   ]
  },
  {
   "cell_type": "markdown",
   "metadata": {},
   "source": [
    "As always I would recommend, creating a new python environment for this tool!\n",
    "\n",
    "You can then install the package via pip from Github. \n",
    "```bash\n",
    "pip install git+https://github.com/SRSteinkamp/simons_mask_binarizer.git\n",
    "```\n",
    "\n",
    "The installation should install all the necessary packages namely (`nilearn` and `nibabel`) and expose the command line tool below. "
   ]
  },
  {
   "cell_type": "markdown",
   "metadata": {},
   "source": [
    "## How to use"
   ]
  },
  {
   "cell_type": "markdown",
   "metadata": {},
   "source": [
    "Currently exposes a CLI directly, to transform single files. In your terminal run:\n",
    "\n",
    "`nifti_binarizer INPUTPATH -o OUTPUTPATH -p PREFIX`\n",
    "\n",
    "Where the INPUTPATH (path of the image to be converted) has to be provided.\n",
    "\n",
    "* `-o` or `--outputpath` argument is optional to provide the destination of the converted image. Defualt image is converted inside `INPUTPATH` folder.\n",
    "\n",
    "* `-p` or `--prefix` argument is optional, prefix defaults to `bin_`. \n",
    "\n",
    "Examples:\n",
    "\n",
    "```bash\n",
    "nifti_binarizer C:\\some_folder\\my_mask.nii.gz` \n",
    "```\n",
    "Creates a new file named as `C:\\some_folder\\bin_my_mask.nii.gz`. \n",
    "```bash\n",
    "nifti_binarizer C:\\some_folder\\my_mask.nii.gz -o C:\\other_folder\\`\n",
    "```\n",
    "Creates a new file in `C:\\other_folder\\bin_my_mask.nii.gz`. \n",
    "\n",
    "```bash\n",
    "nifti_binarizer C:\\some_folder\\my_mask.nii.gz -o C:\\other_folder\\ -p 'p'`\n",
    "```\n",
    "Creates a new file in `C:\\other_folder\\pmy_mask.nii.gz`.\n",
    "\n",
    "\n",
    "\n"
   ]
  },
  {
   "cell_type": "code",
   "execution_count": null,
   "metadata": {},
   "outputs": [],
   "source": []
  }
 ],
 "metadata": {
  "kernelspec": {
   "display_name": "Python 3",
   "language": "python",
   "name": "python3"
  }
 },
 "nbformat": 4,
 "nbformat_minor": 2
}
