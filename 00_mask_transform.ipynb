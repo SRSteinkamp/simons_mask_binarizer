{
 "cells": [
  {
   "cell_type": "code",
   "execution_count": null,
   "metadata": {},
   "outputs": [],
   "source": [
    "# default_exp mask_transform"
   ]
  },
  {
   "cell_type": "markdown",
   "metadata": {},
   "source": [
    "# mask_transform\n",
    "\n",
    "> API details."
   ]
  },
  {
   "cell_type": "code",
   "execution_count": null,
   "metadata": {},
   "outputs": [],
   "source": [
    "#hide\n",
    "from nbdev.showdoc import *"
   ]
  },
  {
   "cell_type": "code",
   "execution_count": null,
   "metadata": {},
   "outputs": [],
   "source": []
  },
  {
   "cell_type": "code",
   "execution_count": null,
   "metadata": {},
   "outputs": [],
   "source": [
    "# export\n",
    "import os\n",
    "import numpy as np\n",
    "import nibabel as nb\n",
    "from nilearn import image, tests\n",
    "from fastcore import test\n",
    "import argparse"
   ]
  },
  {
   "cell_type": "markdown",
   "metadata": {},
   "source": [
    "## The transformation function"
   ]
  },
  {
   "cell_type": "code",
   "execution_count": null,
   "metadata": {},
   "outputs": [],
   "source": [
    "# exports\n",
    "def binarize_mask(input_image):\n",
    "    transform_formula = '((i == 255) * 1).astype(np.uint8)'\n",
    "    out_image = image.math_img(transform_formula, i=input_image)\n",
    "    return out_image"
   ]
  },
  {
   "cell_type": "code",
   "execution_count": null,
   "metadata": {},
   "outputs": [],
   "source": [
    "# hide\n",
    "test_img = np.zeros((10,10))\n",
    "test_img[3:6, 3:6] = 255.0\n",
    "test_img = nb.Nifti1Image(test_img, affine = np.eye(4))\n",
    "out_img = binarize_mask(test_img)\n",
    "\n",
    "# unit test for dtype in header\n",
    "test.test_eq(out_img.header['datatype'], 2)\n",
    "# unit test for transversion\n",
    "test.test_eq(out_img.get_fdata()[3:6, 3:6], np.ones((3,3)))\n",
    "# unit test for equal type of array\n",
    "test.test_eq_type(out_img.get_fdata()[3:6, 3:6], np.ones((3,3), dtype=np.uint8))"
   ]
  },
  {
   "cell_type": "markdown",
   "metadata": {},
   "source": [
    "## Util to load_data"
   ]
  },
  {
   "cell_type": "code",
   "execution_count": null,
   "metadata": {},
   "outputs": [],
   "source": [
    "#export\n",
    "def data_loader(inpath):\n",
    "    return nb.load(inpath)"
   ]
  },
  {
   "cell_type": "code",
   "execution_count": null,
   "metadata": {},
   "outputs": [],
   "source": [
    "#export\n",
    "def data_saver(nifti, outpath):\n",
    "    try:\n",
    "        nb.save(nifti, outpath)\n",
    "        return True\n",
    "    except:\n",
    "        return False"
   ]
  },
  {
   "cell_type": "markdown",
   "metadata": {},
   "source": [
    "## Path-handling\n",
    "Could also become a class later."
   ]
  },
  {
   "cell_type": "code",
   "execution_count": null,
   "metadata": {},
   "outputs": [],
   "source": [
    "#export\n",
    "def outpath_from_inpath(inpath):\n",
    "    image_dir = os.path.dirname(inpath)\n",
    "    return image_dir"
   ]
  },
  {
   "cell_type": "code",
   "execution_count": null,
   "metadata": {},
   "outputs": [],
   "source": [
    "#hide\n",
    "# unit tests for path handler\n",
    "pth = 'd:/GithubRepros/nilearn_mask_binarizer/CONTRIBUTING.md'\n",
    "exppth = 'd:/GithubRepros/nilearn_mask_binarizer'\n",
    "\n",
    "test.test_eq(outpath_from_inpath(pth), exppth)"
   ]
  },
  {
   "cell_type": "code",
   "execution_count": null,
   "metadata": {},
   "outputs": [],
   "source": [
    "#export\n",
    "def check_outpath(outpath):\n",
    "    if os.path.isdir(outpath):\n",
    "        return True\n",
    "    else:\n",
    "        raise Exception('outpath has to be a directory!')"
   ]
  },
  {
   "cell_type": "code",
   "execution_count": null,
   "metadata": {},
   "outputs": [],
   "source": [
    "#hide\n",
    "pth = 'd:/GithubRepros/nilearn_mask_binarizer\\CONTRIBUTING.md'\n",
    "test.test_eq(check_outpath('..'), True)\n",
    "\n",
    "with test.exception:\n",
    "    check_outpath(pth)"
   ]
  },
  {
   "cell_type": "code",
   "execution_count": null,
   "metadata": {},
   "outputs": [],
   "source": [
    "#export\n",
    "def create_outpath(imagename, outpath, prefix):\n",
    "    if check_outpath(outpath):\n",
    "        if prefix is not None:\n",
    "            return os.path.join(outpath, prefix + imagename)\n",
    "        else:\n",
    "            return os.path.join(outpath, imagename)"
   ]
  },
  {
   "cell_type": "code",
   "execution_count": null,
   "metadata": {},
   "outputs": [],
   "source": [
    "#hide\n",
    "pth = 'd:/GithubRepros/nilearn_mask_binarizer\\CONTRIBUTING.md'\n",
    "outpth = '..'\n",
    "test.test_eq(create_outpath('CONTRIBUTING.md', outpth, 'ch_'), '..\\\\ch_CONTRIBUTING.md')"
   ]
  },
  {
   "cell_type": "markdown",
   "metadata": {},
   "source": [
    "###  Putting path funtions together"
   ]
  },
  {
   "cell_type": "code",
   "execution_count": null,
   "metadata": {},
   "outputs": [],
   "source": [
    "#export\n",
    "def savingpath(inpath, outpath=None, prefix='bin_'):\n",
    "    imagename = os.path.basename(inpath)\n",
    "    \n",
    "    if outpath is None:\n",
    "        outpath = outpath_from_inpath(inpath)\n",
    "    \n",
    "    save_path = create_outpath(imagename, outpath, prefix)\n",
    "    \n",
    "    return save_path"
   ]
  },
  {
   "cell_type": "code",
   "execution_count": null,
   "metadata": {},
   "outputs": [],
   "source": [
    "#hide\n",
    "pth = 'd:/GithubRepros/nilearn_mask_binarizer\\CONTRIBUTING.md'\n",
    "outpth = '..'\n",
    "test.test_eq(savingpath(pth, outpth, 'ch_'), '..\\\\ch_CONTRIBUTING.md')"
   ]
  },
  {
   "cell_type": "markdown",
   "metadata": {},
   "source": [
    "# Main Function"
   ]
  },
  {
   "cell_type": "code",
   "execution_count": null,
   "metadata": {},
   "outputs": [],
   "source": [
    "#export\n",
    "def mask_transform(inpath, outpath=None, prefix='bin_'):\n",
    "    nifti = data_loader(inpath)\n",
    "    savepath = savingpath(inpath, outpath, prefix)\n",
    "    nifti_bin = binarize_mask(nifti)\n",
    "    saving = data_saver(nifti_bin, savepath)\n",
    "    \n",
    "    if saving:\n",
    "        print(\"Saved image!\")\n",
    "        return 1\n",
    "    else:\n",
    "        print(\"Not saved!\")\n",
    "        return 0"
   ]
  },
  {
   "cell_type": "code",
   "execution_count": null,
   "metadata": {},
   "outputs": [],
   "source": [
    "# export\n",
    "def nifti_binarizer():\n",
    "    parser = argparse.ArgumentParser(description='Binarize a nifti-mask from 255 to 1.',\n",
    "                                     epilog='Operation complete!')\n",
    "\n",
    "    parser.add_argument(dest='inpath', type=str,\n",
    "                    help='The input image.')\n",
    "\n",
    "    parser.add_argument('-o', '--outpath', type=str, \n",
    "                         help='The output filename and path', default='')\n",
    "\n",
    "    parser.add_argument('-p', '--prefix', type=str, \n",
    "                         help='The prefix to the filename', \n",
    "                         default='bin_')\n",
    "    \n",
    "    \n",
    "    args = parser.parse_args()\n",
    "    \n",
    "    if args.outpath == '':\n",
    "        args.outpath = None\n",
    "    \n",
    "    if mask_transform(args.inpath, args.outpath, args.prefix):\n",
    "        print(\"Succes!!\")\n",
    "    else:\n",
    "        print(\"Fail! Maybe check paths.\")\n",
    "    "
   ]
  },
  {
   "cell_type": "code",
   "execution_count": null,
   "metadata": {},
   "outputs": [],
   "source": []
  }
 ],
 "metadata": {
  "kernelspec": {
   "display_name": "Python 3",
   "language": "python",
   "name": "python3"
  }
 },
 "nbformat": 4,
 "nbformat_minor": 2
}
